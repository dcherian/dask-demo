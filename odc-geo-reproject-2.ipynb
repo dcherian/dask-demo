{
 "cells": [
  {
   "attachments": {},
   "cell_type": "markdown",
   "id": "4ab12ae5-8382-4e76-aff7-843e9392a693",
   "metadata": {},
   "source": [
    "`mamba install arraylake dask distributed odc-geo xarray`"
   ]
  },
  {
   "cell_type": "code",
   "execution_count": null,
   "id": "7fb0b1f8-af3d-497f-a9cc-79d2153b2c7f",
   "metadata": {},
   "outputs": [],
   "source": [
    "import arraylake as al\n",
    "import xarray as xr\n",
    "\n",
    "# To run on coiled, you'll need to set token=TOKEN here,\n",
    "# and then set that token as coiled.Cluster(environ={\"ARRAYLAKE_TOKEN\": TOKEN})\n",
    "alclient = al.Client()\n",
    "alclient"
   ]
  },
  {
   "cell_type": "code",
   "execution_count": null,
   "id": "1155c5b4-0846-4fad-9d45-0e65a8f10368",
   "metadata": {},
   "outputs": [],
   "source": [
    "import odc.geo.xr\n",
    "from odc.geo.geobox import GeoBox\n",
    "\n",
    "outbox = GeoBox.from_bbox(\n",
    "    (-130.24, 21.58, -64.12, 52.88),\n",
    "    crs=\"epsg:4326\", resolution=0.01\n",
    ")\n",
    "outbox"
   ]
  },
  {
   "cell_type": "markdown",
   "id": "29ca0637-41b3-4f5f-9057-d83c7bf4cf90",
   "metadata": {},
   "source": [
    "## Read data"
   ]
  },
  {
   "cell_type": "code",
   "execution_count": null,
   "id": "e55e807a-83d6-4ce1-bfc4-75b44216164e",
   "metadata": {},
   "outputs": [],
   "source": [
    "alclient = al.Client()\n",
    "alclient"
   ]
  },
  {
   "cell_type": "code",
   "execution_count": null,
   "id": "bc33dcbc-cd47-461a-b164-f03391d74b82",
   "metadata": {},
   "outputs": [],
   "source": [
    "repo = alclient.get_repo(\"earthmover-public/nasa-nex-gdm\")\n",
    "nex = (\n",
    "    repo.to_xarray(decode_coords=\"all\", chunks=None)\n",
    "    .chunk(time=50, x=200, y=200)\n",
    ")\n",
    "nex"
   ]
  },
  {
   "cell_type": "markdown",
   "id": "a67b00c2-4539-4e8a-ad42-441b3741aaa9",
   "metadata": {},
   "source": [
    "Not sure if this next cell matters."
   ]
  },
  {
   "cell_type": "code",
   "execution_count": null,
   "id": "10c2fa00-0ffb-43c9-bad1-a642402b464a",
   "metadata": {},
   "outputs": [],
   "source": [
    "import numpy as np\n",
    "\n",
    "def calc_rel_hum(ds):\n",
    "    T = (ds.tmin + ds.tmax) / 2\n",
    "    es = np.exp(17.67 * T / (T + 243.5))\n",
    "    e = np.exp(17.67 * ds.tdew / (ds.tdew + 243.5))\n",
    "    return e / es * 100\n",
    "\n",
    "nex[\"rh\"] = calc_rel_hum(nex)\n",
    "nex"
   ]
  },
  {
   "cell_type": "markdown",
   "id": "3f6b32d7-d9f5-4a51-81b6-7f5943696eae",
   "metadata": {},
   "source": [
    "## Read data"
   ]
  },
  {
   "cell_type": "code",
   "execution_count": null,
   "id": "d0d5017d-e70a-4254-8ec1-26d7af60cb3a",
   "metadata": {},
   "outputs": [],
   "source": [
    "nex_reproj = (\n",
    "    # subset to 10 year span\n",
    "    nex.sel(time=slice(\"2013\", \"2022\"))\n",
    "    # reproject to epsg:4326\n",
    "    .odc.reproject(how=outbox, resampling=\"average\", chunks=(200, 200))\n",
    "    # ascending latitudes\n",
    "    .isel(latitude=slice(None, None, -1))\n",
    "    # chunk to uniform chunks for zarr\n",
    "    .chunk(time=50, latitude=600, longitude=600)\n",
    ")\n",
    "nex_reproj"
   ]
  },
  {
   "cell_type": "code",
   "execution_count": null,
   "id": "888f2f30-7f58-415c-b52b-93b935d79e2f",
   "metadata": {},
   "outputs": [],
   "source": [
    "# chunk to expected chip\n",
    "CHUNK_SIZE = (50, 100, 100)\n",
    "encoding = {var: {\"chunks\": CHUNK_SIZE} for var in nex_reproj}\n",
    "nex_reproj.to_zarr(ADD_A_ZARR_ON_S3_URI, group=\"nex/4326\", mode=\"w\", encoding=encoding)"
   ]
  }
 ],
 "metadata": {
  "kernelspec": {
   "display_name": "Python [conda env:xarray-release]",
   "language": "python",
   "name": "conda-env-xarray-release-py"
  },
  "language_info": {
   "codemirror_mode": {
    "name": "ipython",
    "version": 3
   },
   "file_extension": ".py",
   "mimetype": "text/x-python",
   "name": "python",
   "nbconvert_exporter": "python",
   "pygments_lexer": "ipython3",
   "version": "3.11.9"
  }
 },
 "nbformat": 4,
 "nbformat_minor": 5
}
